{
  "nbformat": 4,
  "nbformat_minor": 0,
  "metadata": {
    "colab": {
      "provenance": []
    },
    "kernelspec": {
      "name": "python3",
      "display_name": "Python 3"
    },
    "language_info": {
      "name": "python"
    }
  },
  "cells": [
    {
      "cell_type": "code",
      "execution_count": 1,
      "metadata": {
        "colab": {
          "base_uri": "https://localhost:8080/"
        },
        "id": "9XaDgU9jYmvS",
        "outputId": "3426d1e3-0a21-477e-e92d-c3fd668dffc6"
      },
      "outputs": [
        {
          "output_type": "stream",
          "name": "stdout",
          "text": [
            "Collecting fpdf\n",
            "  Downloading fpdf-1.7.2.tar.gz (39 kB)\n",
            "  Preparing metadata (setup.py) ... \u001b[?25l\u001b[?25hdone\n",
            "Building wheels for collected packages: fpdf\n",
            "  Building wheel for fpdf (setup.py) ... \u001b[?25l\u001b[?25hdone\n",
            "  Created wheel for fpdf: filename=fpdf-1.7.2-py2.py3-none-any.whl size=40704 sha256=8442878596d79cf60359af145c50fa1ccc350ea405e90ea0654ef8e3edcc45ea\n",
            "  Stored in directory: /root/.cache/pip/wheels/65/4f/66/bbda9866da446a72e206d6484cd97381cbc7859a7068541c36\n",
            "Successfully built fpdf\n",
            "Installing collected packages: fpdf\n",
            "Successfully installed fpdf-1.7.2\n"
          ]
        }
      ],
      "source": [
        "!pip install fpdf"
      ]
    },
    {
      "cell_type": "code",
      "source": [
        "!pip install openpyxl"
      ],
      "metadata": {
        "colab": {
          "base_uri": "https://localhost:8080/"
        },
        "id": "JmCGyttdZENm",
        "outputId": "8b50236d-9164-4a6f-f0a7-db0eedc54523"
      },
      "execution_count": 3,
      "outputs": [
        {
          "output_type": "stream",
          "name": "stdout",
          "text": [
            "Requirement already satisfied: openpyxl in /usr/local/lib/python3.11/dist-packages (3.1.5)\n",
            "Requirement already satisfied: et-xmlfile in /usr/local/lib/python3.11/dist-packages (from openpyxl) (2.0.0)\n"
          ]
        }
      ]
    },
    {
      "cell_type": "code",
      "source": [
        "import pandas as pd\n",
        "from fpdf import FPDF\n",
        "import openpyxl\n",
        "\n",
        "\n",
        "def analyze_data(file_path):\n",
        "    df = pd.read_excel(file_path)\n",
        "    summary = df.describe()\n",
        "    return df, summary\n",
        "\n",
        "\n",
        "def generate_pdf_report(data_summary, output_file=\"report.pdf\"):\n",
        "    pdf = FPDF()\n",
        "    pdf.set_auto_page_break(auto=True, margin=15)\n",
        "    pdf.add_page()\n",
        "    pdf.set_font(\"Arial\", \"B\", 16)\n",
        "    pdf.cell(200, 10, \"Automated Data Analysis Report\", ln=True, align=\"C\")\n",
        "    pdf.ln(10)\n",
        "\n",
        "    pdf.set_font(\"Arial\", \"B\", 12)\n",
        "    pdf.cell(200, 10, \"Data Summary:\", ln=True)\n",
        "    pdf.ln(5)\n",
        "\n",
        "    pdf.set_font(\"Arial\", size=10)\n",
        "    for col in data_summary.columns:\n",
        "        pdf.cell(200, 10, f\"Column: {col}\", ln=True, align=\"L\")\n",
        "        for index, value in data_summary[col].items():\n",
        "            pdf.cell(200, 10, f\"{index}: {value:.2f}\", ln=True, align=\"L\")\n",
        "        pdf.ln(5)\n",
        "\n",
        "    pdf.output(output_file)\n",
        "    print(f\"Report saved as {output_file}\")\n",
        "\n",
        "def main():\n",
        "    input_file = \"/content/deduction_import_raw (1).xlsx\"\n",
        "    df, summary = analyze_data(input_file)\n",
        "    generate_pdf_report(summary)\n",
        "\n",
        "if __name__ == \"__main__\":\n",
        "    main()"
      ],
      "metadata": {
        "colab": {
          "base_uri": "https://localhost:8080/"
        },
        "id": "MQBLhq1TYpwo",
        "outputId": "ff32a699-ee54-4a67-d9ba-892c215b01a5"
      },
      "execution_count": 9,
      "outputs": [
        {
          "output_type": "stream",
          "name": "stdout",
          "text": [
            "Report saved as report.pdf\n"
          ]
        }
      ]
    },
    {
      "cell_type": "code",
      "source": [],
      "metadata": {
        "id": "BmbCP3CYZmL5"
      },
      "execution_count": null,
      "outputs": []
    }
  ]
}